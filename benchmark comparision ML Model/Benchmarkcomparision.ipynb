{
 "cells": [
  {
   "cell_type": "markdown",
   "metadata": {},
   "source": [
    "Data Collection and Preprocessing"
   ]
  },
  {
   "cell_type": "code",
   "execution_count": null,
   "metadata": {},
   "outputs": [],
   "source": [
    "import pandas as pd\n",
    "\n",
    "historical_data = pd.read_csv(\"historical_test_results.csv\")\n",
    "current_data = pd.read_csv(\"current_test_results.csv\")\n",
    "\n",
    "combined_data = pd.concat([historical_data, current_data], ignore_index=True)\n",
    "\n",
    "combined_data.fillna(0, inplace=True)  \n",
    "combined_data = pd.get_dummies(combined_data, columns=[\"Status\", \"Target Device/SoC\"])  \n",
    "#one hot encoding "
   ]
  },
  {
   "cell_type": "markdown",
   "metadata": {},
   "source": [
    " Feature Engineering"
   ]
  },
  {
   "cell_type": "code",
   "execution_count": null,
   "metadata": {},
   "outputs": [],
   "source": [
    "features = [\n",
    "    \"Execution Time\", \"Power Consumption\", \"Latency\", \"Throughput\", \n",
    "    \"Utilization\", \"Temperature\", \"Voltage\", \"Error Rates under Stress\"\n",
    "]\n",
    "\n",
    "X = combined_data[features]\n",
    "y = combined_data[\"Status_Pass\"]  "
   ]
  },
  {
   "cell_type": "markdown",
   "metadata": {},
   "source": [
    "Model Training"
   ]
  },
  {
   "cell_type": "markdown",
   "metadata": {},
   "source": [
    "Comparison and Insights"
   ]
  },
  {
   "cell_type": "code",
   "execution_count": null,
   "metadata": {},
   "outputs": [],
   "source": [
    "from sklearn.model_selection import train_test_split\n",
    "from sklearn.ensemble import RandomForestClassifier\n",
    "from sklearn.metrics import classification_report\n",
    "\n",
    "X_train, X_test, y_train, y_test = train_test_split(X, y, test_size=0.2, random_state=42)\n",
    "\n",
    "\n",
    "model = RandomForestClassifier(n_estimators=100, random_state=42)\n",
    "model.fit(X_train, y_train)\n",
    "\n",
    "y_pred = model.predict(X_test)\n",
    "print(classification_report(y_test, y_pred))"
   ]
  },
  {
   "cell_type": "markdown",
   "metadata": {},
   "source": [
    "Benchmarking"
   ]
  },
  {
   "cell_type": "code",
   "execution_count": null,
   "metadata": {},
   "outputs": [],
   "source": [
    "current_results = current_data[features]\n",
    "current_data[\"Predicted_Status\"] = model.predict(current_results)\n",
    "\n",
    "historical_mean = historical_data[features].mean()\n",
    "current_mean = current_data[features].mean()\n",
    "\n",
    "difference = current_mean - historical_mean\n",
    "print(\"Difference between current and historical results:\")\n",
    "print(difference)\n",
    "\n",
    "significant_changes = difference[difference.abs() > difference.std()]\n",
    "print(\"Significant changes in metrics:\")\n",
    "print(significant_changes)"
   ]
  },
  {
   "cell_type": "code",
   "execution_count": null,
   "metadata": {},
   "outputs": [],
   "source": [
    "benchmark = historical_data[features].mean()\n",
    "\n",
    "current_vs_benchmark = current_data[features].mean() - benchmark\n",
    "print(\"Current results vs benchmark:\")\n",
    "print(current_vs_benchmark)\n",
    "\n",
    "exceeds_benchmark = current_vs_benchmark[current_vs_benchmark > 0]\n",
    "print(\"Fields where current results exceed the benchmark:\")\n",
    "print(exceeds_benchmark)"
   ]
  },
  {
   "cell_type": "code",
   "execution_count": null,
   "metadata": {},
   "outputs": [],
   "source": [
    "import matplotlib.pyplot as plt\n",
    "\n",
    "plt.figure(figsize=(10, 6))\n",
    "plt.bar(features, difference)\n",
    "plt.xticks(rotation=90)\n",
    "plt.title(\"Difference Between Current and Historical Results\")\n",
    "plt.ylabel(\"Difference\")\n",
    "plt.show()\n",
    "\n",
    "plt.figure(figsize=(10, 6))\n",
    "plt.bar(features, current_vs_benchmark)\n",
    "plt.xticks(rotation=90)\n",
    "plt.title(\"Current Results vs Benchmark\")\n",
    "plt.ylabel(\"Difference\")\n",
    "plt.show()"
   ]
  }
 ],
 "metadata": {
  "language_info": {
   "name": "python"
  }
 },
 "nbformat": 4,
 "nbformat_minor": 2
}
